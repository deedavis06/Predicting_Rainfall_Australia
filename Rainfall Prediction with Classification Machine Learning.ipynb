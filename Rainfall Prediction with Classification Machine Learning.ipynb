{
 "cells": [
  {
   "cell_type": "markdown",
   "id": "9a849a75",
   "metadata": {},
   "source": [
    "<h1><b><center> Honor's Project: Predicting Rainfall in Australia Using a Classifier</center></b></h1>"
   ]
  },
  {
   "cell_type": "markdown",
   "id": "83da48b8",
   "metadata": {},
   "source": [
    "This project involves using classification algorithms (**Linear Regression, KNN, Decision Trees, Logistic Regression, SVM**) to create a model based on our training data and evaluate our testing data using evaluation metrics (**Accuracy Score, Jaccard Index, F1-Score, LogLoss, Mean Absolute Error, Mean Squared Error and R2-Score**). "
   ]
  },
  {
   "cell_type": "code",
   "execution_count": 75,
   "id": "38c17e2d",
   "metadata": {},
   "outputs": [],
   "source": [
    "#Surpress warnings:\n",
    "def warn(*args, **kwargs):\n",
    "    pass\n",
    "import warnings\n",
    "warnings.warn = warn"
   ]
  },
  {
   "cell_type": "code",
   "execution_count": 76,
   "id": "cf4e341f",
   "metadata": {},
   "outputs": [],
   "source": [
    "#Import libraries\n",
    "import pandas as pd\n",
    "import numpy as np\n",
    "\n",
    "from sklearn.linear_model import LogisticRegression\n",
    "from sklearn.linear_model import LinearRegression\n",
    "from sklearn import preprocessing\n",
    "\n",
    "from sklearn.model_selection import train_test_split\n",
    "from sklearn.tree import DecisionTreeClassifier\n",
    "from sklearn.neighbors import KNeighborsClassifier\n",
    "from sklearn import svm\n",
    "\n",
    "from sklearn.metrics import jaccard_score\n",
    "from sklearn.metrics import f1_score\n",
    "from sklearn.metrics import log_loss\n",
    "from sklearn.metrics import confusion_matrix, accuracy_score\n",
    "import sklearn.metrics as metrics"
   ]
  },
  {
   "cell_type": "code",
   "execution_count": 77,
   "id": "5e13c4ba",
   "metadata": {},
   "outputs": [
    {
     "data": {
      "text/html": [
       "<div>\n",
       "<style scoped>\n",
       "    .dataframe tbody tr th:only-of-type {\n",
       "        vertical-align: middle;\n",
       "    }\n",
       "\n",
       "    .dataframe tbody tr th {\n",
       "        vertical-align: top;\n",
       "    }\n",
       "\n",
       "    .dataframe thead th {\n",
       "        text-align: right;\n",
       "    }\n",
       "</style>\n",
       "<table border=\"1\" class=\"dataframe\">\n",
       "  <thead>\n",
       "    <tr style=\"text-align: right;\">\n",
       "      <th></th>\n",
       "      <th>Date</th>\n",
       "      <th>MinTemp</th>\n",
       "      <th>MaxTemp</th>\n",
       "      <th>Rainfall</th>\n",
       "      <th>Evaporation</th>\n",
       "      <th>Sunshine</th>\n",
       "      <th>WindGustDir</th>\n",
       "      <th>WindGustSpeed</th>\n",
       "      <th>WindDir9am</th>\n",
       "      <th>WindDir3pm</th>\n",
       "      <th>...</th>\n",
       "      <th>Humidity9am</th>\n",
       "      <th>Humidity3pm</th>\n",
       "      <th>Pressure9am</th>\n",
       "      <th>Pressure3pm</th>\n",
       "      <th>Cloud9am</th>\n",
       "      <th>Cloud3pm</th>\n",
       "      <th>Temp9am</th>\n",
       "      <th>Temp3pm</th>\n",
       "      <th>RainToday</th>\n",
       "      <th>RainTomorrow</th>\n",
       "    </tr>\n",
       "  </thead>\n",
       "  <tbody>\n",
       "    <tr>\n",
       "      <th>0</th>\n",
       "      <td>2/1/2008</td>\n",
       "      <td>19.5</td>\n",
       "      <td>22.4</td>\n",
       "      <td>15.6</td>\n",
       "      <td>6.2</td>\n",
       "      <td>0.0</td>\n",
       "      <td>W</td>\n",
       "      <td>41</td>\n",
       "      <td>S</td>\n",
       "      <td>SSW</td>\n",
       "      <td>...</td>\n",
       "      <td>92</td>\n",
       "      <td>84</td>\n",
       "      <td>1017.6</td>\n",
       "      <td>1017.4</td>\n",
       "      <td>8</td>\n",
       "      <td>8</td>\n",
       "      <td>20.7</td>\n",
       "      <td>20.9</td>\n",
       "      <td>Yes</td>\n",
       "      <td>Yes</td>\n",
       "    </tr>\n",
       "    <tr>\n",
       "      <th>1</th>\n",
       "      <td>2/2/2008</td>\n",
       "      <td>19.5</td>\n",
       "      <td>25.6</td>\n",
       "      <td>6.0</td>\n",
       "      <td>3.4</td>\n",
       "      <td>2.7</td>\n",
       "      <td>W</td>\n",
       "      <td>41</td>\n",
       "      <td>W</td>\n",
       "      <td>E</td>\n",
       "      <td>...</td>\n",
       "      <td>83</td>\n",
       "      <td>73</td>\n",
       "      <td>1017.9</td>\n",
       "      <td>1016.4</td>\n",
       "      <td>7</td>\n",
       "      <td>7</td>\n",
       "      <td>22.4</td>\n",
       "      <td>24.8</td>\n",
       "      <td>Yes</td>\n",
       "      <td>Yes</td>\n",
       "    </tr>\n",
       "    <tr>\n",
       "      <th>2</th>\n",
       "      <td>2/3/2008</td>\n",
       "      <td>21.6</td>\n",
       "      <td>24.5</td>\n",
       "      <td>6.6</td>\n",
       "      <td>2.4</td>\n",
       "      <td>0.1</td>\n",
       "      <td>W</td>\n",
       "      <td>41</td>\n",
       "      <td>ESE</td>\n",
       "      <td>ESE</td>\n",
       "      <td>...</td>\n",
       "      <td>88</td>\n",
       "      <td>86</td>\n",
       "      <td>1016.7</td>\n",
       "      <td>1015.6</td>\n",
       "      <td>7</td>\n",
       "      <td>8</td>\n",
       "      <td>23.5</td>\n",
       "      <td>23.0</td>\n",
       "      <td>Yes</td>\n",
       "      <td>Yes</td>\n",
       "    </tr>\n",
       "    <tr>\n",
       "      <th>3</th>\n",
       "      <td>2/4/2008</td>\n",
       "      <td>20.2</td>\n",
       "      <td>22.8</td>\n",
       "      <td>18.8</td>\n",
       "      <td>2.2</td>\n",
       "      <td>0.0</td>\n",
       "      <td>W</td>\n",
       "      <td>41</td>\n",
       "      <td>NNE</td>\n",
       "      <td>E</td>\n",
       "      <td>...</td>\n",
       "      <td>83</td>\n",
       "      <td>90</td>\n",
       "      <td>1014.2</td>\n",
       "      <td>1011.8</td>\n",
       "      <td>8</td>\n",
       "      <td>8</td>\n",
       "      <td>21.4</td>\n",
       "      <td>20.9</td>\n",
       "      <td>Yes</td>\n",
       "      <td>Yes</td>\n",
       "    </tr>\n",
       "    <tr>\n",
       "      <th>4</th>\n",
       "      <td>2/5/2008</td>\n",
       "      <td>19.7</td>\n",
       "      <td>25.7</td>\n",
       "      <td>77.4</td>\n",
       "      <td>4.8</td>\n",
       "      <td>0.0</td>\n",
       "      <td>W</td>\n",
       "      <td>41</td>\n",
       "      <td>NNE</td>\n",
       "      <td>W</td>\n",
       "      <td>...</td>\n",
       "      <td>88</td>\n",
       "      <td>74</td>\n",
       "      <td>1008.3</td>\n",
       "      <td>1004.8</td>\n",
       "      <td>8</td>\n",
       "      <td>8</td>\n",
       "      <td>22.5</td>\n",
       "      <td>25.5</td>\n",
       "      <td>Yes</td>\n",
       "      <td>Yes</td>\n",
       "    </tr>\n",
       "  </tbody>\n",
       "</table>\n",
       "<p>5 rows × 22 columns</p>\n",
       "</div>"
      ],
      "text/plain": [
       "       Date  MinTemp  MaxTemp  Rainfall  Evaporation  Sunshine WindGustDir  \\\n",
       "0  2/1/2008     19.5     22.4      15.6          6.2       0.0           W   \n",
       "1  2/2/2008     19.5     25.6       6.0          3.4       2.7           W   \n",
       "2  2/3/2008     21.6     24.5       6.6          2.4       0.1           W   \n",
       "3  2/4/2008     20.2     22.8      18.8          2.2       0.0           W   \n",
       "4  2/5/2008     19.7     25.7      77.4          4.8       0.0           W   \n",
       "\n",
       "   WindGustSpeed WindDir9am WindDir3pm  ...  Humidity9am  Humidity3pm  \\\n",
       "0             41          S        SSW  ...           92           84   \n",
       "1             41          W          E  ...           83           73   \n",
       "2             41        ESE        ESE  ...           88           86   \n",
       "3             41        NNE          E  ...           83           90   \n",
       "4             41        NNE          W  ...           88           74   \n",
       "\n",
       "   Pressure9am  Pressure3pm  Cloud9am  Cloud3pm  Temp9am  Temp3pm  RainToday  \\\n",
       "0       1017.6       1017.4         8         8     20.7     20.9        Yes   \n",
       "1       1017.9       1016.4         7         7     22.4     24.8        Yes   \n",
       "2       1016.7       1015.6         7         8     23.5     23.0        Yes   \n",
       "3       1014.2       1011.8         8         8     21.4     20.9        Yes   \n",
       "4       1008.3       1004.8         8         8     22.5     25.5        Yes   \n",
       "\n",
       "   RainTomorrow  \n",
       "0           Yes  \n",
       "1           Yes  \n",
       "2           Yes  \n",
       "3           Yes  \n",
       "4           Yes  \n",
       "\n",
       "[5 rows x 22 columns]"
      ]
     },
     "execution_count": 77,
     "metadata": {},
     "output_type": "execute_result"
    }
   ],
   "source": [
    "#Import dataset\n",
    "import requests\n",
    "\n",
    "#Load data\n",
    "req = requests.get('https://cf-courses-data.s3.us.cloud-object-storage.appdomain.cloud/IBMDeveloperSkillsNetwork-ML0101EN-SkillUp/labs/ML-FinalAssignment/Weather_Data.csv')\n",
    "\n",
    "url_content=req.content\n",
    "file=open('Weather_Data.csv', 'wb')\n",
    "file.write(url_content)\n",
    "\n",
    "df= pd.read_csv('Weather_Data.csv')\n",
    "\n",
    "df.head()\n"
   ]
  },
  {
   "cell_type": "markdown",
   "id": "a4240840",
   "metadata": {},
   "source": [
    "## **Data Preprocessing**"
   ]
  },
  {
   "cell_type": "code",
   "execution_count": 87,
   "id": "d7b1444a",
   "metadata": {},
   "outputs": [],
   "source": [
    "#Convert categorical variables to binary variables using one-hot encoding\n",
    "df_processed = pd.get_dummies(data=df, columns=['RainToday', 'WindGustDir', 'WindDir9am', 'WindDir3pm'])\n",
    "\n",
    "#Change values of 'RainTomorrow' to 0 and 1 (dont make new column)\n",
    "df_processed.replace(['No', 'Yes'], [0,1], inplace=True)"
   ]
  },
  {
   "cell_type": "code",
   "execution_count": 88,
   "id": "a32de67c",
   "metadata": {},
   "outputs": [],
   "source": [
    "#Drop the 'Date' column\n",
    "df_processed.drop('Date',axis=1,inplace=True)"
   ]
  },
  {
   "cell_type": "code",
   "execution_count": 89,
   "id": "305315e4",
   "metadata": {},
   "outputs": [],
   "source": [
    "#Change to data type float\n",
    "df_processed = df_processed.astype(float)"
   ]
  },
  {
   "cell_type": "markdown",
   "id": "337b3990",
   "metadata": {},
   "source": [
    "## **Training/Testing Data**"
   ]
  },
  {
   "cell_type": "code",
   "execution_count": 90,
   "id": "1cd20b04",
   "metadata": {},
   "outputs": [],
   "source": [
    "#Set features\n",
    "X = df_processed.drop(columns='RainTomorrow', axis=1)\n",
    "#Set target variable\n",
    "Y = df_processed['RainTomorrow']"
   ]
  },
  {
   "cell_type": "markdown",
   "id": "3dcad7e3",
   "metadata": {},
   "source": [
    "## **Question 1**\n",
    "Use the train_test_split function to split the features and Y dataframes with a test_size of 0.2 and the random_state set to 10."
   ]
  },
  {
   "cell_type": "code",
   "execution_count": 91,
   "id": "74f0ae0c",
   "metadata": {},
   "outputs": [],
   "source": [
    "X_train, X_test, Y_train, Y_test = train_test_split(X, Y, test_size=0.2, random_state=10)"
   ]
  },
  {
   "cell_type": "markdown",
   "id": "9aeb0960",
   "metadata": {},
   "source": [
    "## **Question 2**\n",
    "Create and train a Linear Regression model called LinearReg using the training data (x_train, y_train)."
   ]
  },
  {
   "cell_type": "code",
   "execution_count": 92,
   "id": "bf6ab2f3",
   "metadata": {},
   "outputs": [
    {
     "data": {
      "text/plain": [
       "LinearRegression()"
      ]
     },
     "execution_count": 92,
     "metadata": {},
     "output_type": "execute_result"
    }
   ],
   "source": [
    "LinearReg= LinearRegression()\n",
    "LinearReg.fit(X_train, Y_train)"
   ]
  },
  {
   "cell_type": "markdown",
   "id": "ef3377b3",
   "metadata": {},
   "source": [
    "## **Question 3**\n",
    "Use the predict method on the testing data (x_test) and save it to the array **predictions**."
   ]
  },
  {
   "cell_type": "code",
   "execution_count": 93,
   "id": "3d3010c5",
   "metadata": {},
   "outputs": [
    {
     "data": {
      "text/plain": [
       "array([0.13180923, 0.27615738, 0.97816086, 0.2874527 , 0.13239288])"
      ]
     },
     "execution_count": 93,
     "metadata": {},
     "output_type": "execute_result"
    }
   ],
   "source": [
    "predictions = LinearReg.predict(X_test)\n",
    "predictions[0:5]"
   ]
  },
  {
   "cell_type": "markdown",
   "id": "3d868cee",
   "metadata": {},
   "source": [
    "## **Question 4**\n",
    "Use the predictions and the y_test dataframe to calculate the value for each metric using the appropriate function."
   ]
  },
  {
   "cell_type": "code",
   "execution_count": 94,
   "id": "9811964a",
   "metadata": {},
   "outputs": [
    {
     "name": "stdout",
     "output_type": "stream",
     "text": [
      "The mean absolute error is: 0.25631853059957954 \n",
      "The mean squared error is: 0.11572181723808837 \n",
      "The R2 score is: 0.42712599648561245\n"
     ]
    }
   ],
   "source": [
    "LinearRegression_MAE = metrics.mean_absolute_error(Y_test, predictions)\n",
    "LinearRegression_MSE = metrics.mean_squared_error(Y_test, predictions)\n",
    "LinearRegression_R2 = metrics.r2_score (Y_test, predictions)\n",
    "print('The mean absolute error is:', LinearRegression_MAE, '\\nThe mean squared error is:', LinearRegression_MSE, '\\nThe R2 score is:',LinearRegression_R2)"
   ]
  },
  {
   "cell_type": "markdown",
   "id": "51382481",
   "metadata": {},
   "source": [
    "## **Question 5**\n",
    "Show the MAE, MSE, and R2 in a tabular format using data frame for the linear model."
   ]
  },
  {
   "cell_type": "code",
   "execution_count": 95,
   "id": "dd08338f",
   "metadata": {},
   "outputs": [
    {
     "data": {
      "text/html": [
       "<style type=\"text/css\">\n",
       "</style>\n",
       "<table id=\"T_d54f1\">\n",
       "  <thead>\n",
       "    <tr>\n",
       "      <th id=\"T_d54f1_level0_col0\" class=\"col_heading level0 col0\" >Metrics</th>\n",
       "      <th id=\"T_d54f1_level0_col1\" class=\"col_heading level0 col1\" >Results</th>\n",
       "    </tr>\n",
       "  </thead>\n",
       "  <tbody>\n",
       "    <tr>\n",
       "      <td id=\"T_d54f1_row0_col0\" class=\"data row0 col0\" >MAE</td>\n",
       "      <td id=\"T_d54f1_row0_col1\" class=\"data row0 col1\" >0.256319</td>\n",
       "    </tr>\n",
       "    <tr>\n",
       "      <td id=\"T_d54f1_row1_col0\" class=\"data row1 col0\" >MSE</td>\n",
       "      <td id=\"T_d54f1_row1_col1\" class=\"data row1 col1\" >0.115722</td>\n",
       "    </tr>\n",
       "    <tr>\n",
       "      <td id=\"T_d54f1_row2_col0\" class=\"data row2 col0\" >R2</td>\n",
       "      <td id=\"T_d54f1_row2_col1\" class=\"data row2 col1\" >0.427126</td>\n",
       "    </tr>\n",
       "  </tbody>\n",
       "</table>\n"
      ],
      "text/plain": [
       "<pandas.io.formats.style.Styler at 0x1dd9ae45d90>"
      ]
     },
     "execution_count": 95,
     "metadata": {},
     "output_type": "execute_result"
    }
   ],
   "source": [
    "Report={'Metrics':['MAE', 'MSE', 'R2'], 'Results':[LinearRegression_MAE, LinearRegression_MSE, LinearRegression_R2]}\n",
    "pd.DataFrame(Report).style.hide_index()"
   ]
  },
  {
   "cell_type": "markdown",
   "id": "04c43cb6",
   "metadata": {},
   "source": [
    "## **Question 6**\n",
    "Create and train a KNN model called KNN using the training data (x_train, y_train) with the n_neighbors parameter set to 4"
   ]
  },
  {
   "cell_type": "code",
   "execution_count": 37,
   "id": "a1e29d05",
   "metadata": {},
   "outputs": [
    {
     "data": {
      "text/plain": [
       "KNeighborsClassifier(n_neighbors=4)"
      ]
     },
     "execution_count": 37,
     "metadata": {},
     "output_type": "execute_result"
    }
   ],
   "source": [
    "KNN = KNeighborsClassifier(n_neighbors = 4).fit(X_train,Y_train)\n",
    "KNN"
   ]
  },
  {
   "cell_type": "markdown",
   "id": "8e85fb9c",
   "metadata": {},
   "source": [
    "## **Question 7**\n",
    "Use the *predict* method on the testing data (x_test) and save it to the array 'predictions'."
   ]
  },
  {
   "cell_type": "code",
   "execution_count": 54,
   "id": "eae5848e",
   "metadata": {},
   "outputs": [
    {
     "data": {
      "text/plain": [
       "array([0., 0., 1., 0., 0.])"
      ]
     },
     "execution_count": 54,
     "metadata": {},
     "output_type": "execute_result"
    }
   ],
   "source": [
    "predictions_KNN = KNN.predict(X_test)\n",
    "predictions_KNN[0:5]"
   ]
  },
  {
   "cell_type": "markdown",
   "id": "1ddbf868",
   "metadata": {},
   "source": [
    "## **Question 8**\n",
    "Using the *predictions* and the *y_test* dataframe calculate the value for each metric."
   ]
  },
  {
   "cell_type": "code",
   "execution_count": 40,
   "id": "df8b878e",
   "metadata": {},
   "outputs": [
    {
     "name": "stdout",
     "output_type": "stream",
     "text": [
      "The testing set accuracy score is: 0.8183206106870229 \n",
      "The Jaccard similarity coefficient score. is: 0.4251207729468599 \n",
      "The F1 score is: 0.5966101694915255\n"
     ]
    }
   ],
   "source": [
    "KNN_Accuracy_Score = metrics.accuracy_score(Y_test, predictions_KNN)\n",
    "KNN_JaccardIndex = metrics.jaccard_score(Y_test, predictions_KNN)\n",
    "KNN_F1_Score = metrics.f1_score(Y_test, predictions_KNN)\n",
    "print('The testing set accuracy score is:', KNN_Accuracy_Score, '\\nThe Jaccard similarity coefficient score. is:', KNN_JaccardIndex, '\\nThe F1 score is:',KNN_F1_Score)"
   ]
  },
  {
   "cell_type": "markdown",
   "id": "88a55435",
   "metadata": {},
   "source": [
    "## **Question 9**\n",
    "Create and train a Decision Tree model called *Tree* using the training data (*x_train, y_train*)."
   ]
  },
  {
   "cell_type": "code",
   "execution_count": 43,
   "id": "0a57badb",
   "metadata": {},
   "outputs": [
    {
     "data": {
      "text/plain": [
       "DecisionTreeClassifier()"
      ]
     },
     "execution_count": 43,
     "metadata": {},
     "output_type": "execute_result"
    }
   ],
   "source": [
    "Tree = DecisionTreeClassifier()\n",
    "Tree.fit(X_train,Y_train)"
   ]
  },
  {
   "cell_type": "markdown",
   "id": "cb30caeb",
   "metadata": {},
   "source": [
    "## **Question 10**\n",
    "Use the *predict* method on the testing data (*x_test*) and save it to the array *predictions*."
   ]
  },
  {
   "cell_type": "code",
   "execution_count": 55,
   "id": "e5c9392e",
   "metadata": {},
   "outputs": [
    {
     "data": {
      "text/plain": [
       "array([0., 0., 1., 0., 0.])"
      ]
     },
     "execution_count": 55,
     "metadata": {},
     "output_type": "execute_result"
    }
   ],
   "source": [
    "predictions_DT = Tree.predict(X_test)\n",
    "predictions_DT[0:5]"
   ]
  },
  {
   "cell_type": "markdown",
   "id": "76304585",
   "metadata": {},
   "source": [
    "## **Question 11**\n",
    "Use the *predictions* and the *y_test* dataframe to calculate the value for each metric."
   ]
  },
  {
   "cell_type": "code",
   "execution_count": 45,
   "id": "9e27d68b",
   "metadata": {},
   "outputs": [
    {
     "name": "stdout",
     "output_type": "stream",
     "text": [
      "The testing set accuracy score is: 0.7557251908396947 \n",
      "The Jaccard similarity coefficient score. is: 0.40298507462686567 \n",
      "The F1 score is: 0.5744680851063831\n"
     ]
    }
   ],
   "source": [
    "Tree_Accuracy_Score = metrics.accuracy_score(Y_test, predictions_DT)\n",
    "Tree_JaccardIndex = metrics.jaccard_score(Y_test, predictions_DT)\n",
    "Tree_F1_Score = metrics.f1_score(Y_test, predictions_DT)\n",
    "print('The testing set accuracy score is:', Tree_Accuracy_Score, '\\nThe Jaccard similarity coefficient score. is:', Tree_JaccardIndex, '\\nThe F1 score is:',Tree_F1_Score)"
   ]
  },
  {
   "cell_type": "markdown",
   "id": "b3508f0e",
   "metadata": {},
   "source": [
    "## **Question 12**\n",
    "Use the *train_test_split* function to split the X and Y dataframes with a test_size of 0.2 and the random_state set to 1."
   ]
  },
  {
   "cell_type": "code",
   "execution_count": 46,
   "id": "1f34acd4",
   "metadata": {},
   "outputs": [],
   "source": [
    "X_train_LR, X_test_LR, Y_train_LR, Y_test_LR = train_test_split(X, Y, test_size=.2, random_state=1)"
   ]
  },
  {
   "cell_type": "markdown",
   "id": "db9d5bd7",
   "metadata": {},
   "source": [
    "## **Question 13**\n",
    "Create and train a LogisticRegression model called *LR* using the training data (*X_train, y_train*) with the solver parameter set to *liblinear*."
   ]
  },
  {
   "cell_type": "code",
   "execution_count": 51,
   "id": "0c1aefe6",
   "metadata": {},
   "outputs": [
    {
     "data": {
      "text/plain": [
       "LogisticRegression(solver='liblinear')"
      ]
     },
     "execution_count": 51,
     "metadata": {},
     "output_type": "execute_result"
    }
   ],
   "source": [
    "LR = LogisticRegression(solver='liblinear').fit(X_train_LR,Y_train_LR)\n",
    "LR"
   ]
  },
  {
   "cell_type": "markdown",
   "id": "b5b6baf1",
   "metadata": {},
   "source": [
    "## **Question 14**\n",
    "Now, use the *predict* and *predict_proba* methods on the testing data (*x_test*) and save it as 2 arrays, *predictions* and *predict_proba*"
   ]
  },
  {
   "cell_type": "code",
   "execution_count": 56,
   "id": "8f1a7734",
   "metadata": {},
   "outputs": [
    {
     "data": {
      "text/plain": [
       "array([0., 0., 0., 0., 0.])"
      ]
     },
     "execution_count": 56,
     "metadata": {},
     "output_type": "execute_result"
    }
   ],
   "source": [
    "predictions_LR = LR.predict(X_test_LR)\n",
    "predictions_LR[0:5]"
   ]
  },
  {
   "cell_type": "code",
   "execution_count": 57,
   "id": "935ee8f8",
   "metadata": {},
   "outputs": [
    {
     "data": {
      "text/plain": [
       "array([[0.74339483, 0.25660517],\n",
       "       [0.97495683, 0.02504317],\n",
       "       [0.50982014, 0.49017986],\n",
       "       [0.84891209, 0.15108791],\n",
       "       [0.9684643 , 0.0315357 ]])"
      ]
     },
     "execution_count": 57,
     "metadata": {},
     "output_type": "execute_result"
    }
   ],
   "source": [
    "predict_proba = LR.predict_proba(X_test_LR)\n",
    "predict_proba[0:5]\n",
    "#1st column is probability of class 0, P(Y=0|X), and 2nd column is probability of class 1, P(Y=1|X)"
   ]
  },
  {
   "cell_type": "markdown",
   "id": "e984d1cf",
   "metadata": {},
   "source": [
    "## **Question 15**\n",
    "Use the *predictions, predict_proba* and the *y_test* dataframe to calculate the value for each metric."
   ]
  },
  {
   "cell_type": "code",
   "execution_count": 58,
   "id": "b395bb15",
   "metadata": {},
   "outputs": [
    {
     "name": "stdout",
     "output_type": "stream",
     "text": [
      "The testing set accuracy score is: 0.8366412213740458 \n",
      "The Jaccard similarity coefficient score. is: 0.5091743119266054 \n",
      "The F1 score is: 0.6747720364741641 \n",
      "The logistic loss is: 0.38106374371303714\n"
     ]
    }
   ],
   "source": [
    "LR_Accuracy_Score = metrics.accuracy_score(Y_test_LR, predictions_LR)\n",
    "LR_JaccardIndex = metrics.jaccard_score(Y_test_LR, predictions_LR)\n",
    "LR_F1_Score = metrics.f1_score(Y_test_LR, predictions_LR)\n",
    "LR_Log_Loss = metrics.log_loss(Y_test_LR, predict_proba)\n",
    "print('The testing set accuracy score is:', LR_Accuracy_Score, '\\nThe Jaccard similarity coefficient score. is:', LR_JaccardIndex, '\\nThe F1 score is:',LR_F1_Score, '\\nThe logistic loss is:',LR_Log_Loss)"
   ]
  },
  {
   "cell_type": "markdown",
   "id": "dc340f11",
   "metadata": {},
   "source": [
    "## **Question 16**\n",
    " Create and train a SVM model called *SVM* using the training data (*x_train, y_train*)"
   ]
  },
  {
   "cell_type": "code",
   "execution_count": 59,
   "id": "e65c8307",
   "metadata": {},
   "outputs": [
    {
     "data": {
      "text/plain": [
       "SVC()"
      ]
     },
     "execution_count": 59,
     "metadata": {},
     "output_type": "execute_result"
    }
   ],
   "source": [
    "SVM=svm.SVC()\n",
    "SVM.fit(X_train, Y_train)"
   ]
  },
  {
   "cell_type": "markdown",
   "id": "ecb5c3ea",
   "metadata": {},
   "source": [
    "## **Question 17**\n",
    "Use the *predict* method on the testing data (*x_test*) and save it to the array *predictions*"
   ]
  },
  {
   "cell_type": "code",
   "execution_count": 61,
   "id": "eb9a5471",
   "metadata": {},
   "outputs": [
    {
     "data": {
      "text/plain": [
       "array([0., 0., 0., 0., 0.])"
      ]
     },
     "execution_count": 61,
     "metadata": {},
     "output_type": "execute_result"
    }
   ],
   "source": [
    "predictions_SVM = SVM.predict(X_test)\n",
    "predictions_SVM[0:5]"
   ]
  },
  {
   "cell_type": "markdown",
   "id": "e20c70d2",
   "metadata": {},
   "source": [
    "## **Question 18**\n",
    "Use the *predictions* and the *y_test* dataframe to calculate the value for each metric."
   ]
  },
  {
   "cell_type": "code",
   "execution_count": 62,
   "id": "7d7597e3",
   "metadata": {},
   "outputs": [
    {
     "name": "stdout",
     "output_type": "stream",
     "text": [
      "The testing set accuracy score is: 0.7190839694656489 \n",
      "The Jaccard similarity coefficient score. is: 0.0 \n",
      "The F1 score is: 0.0\n"
     ]
    }
   ],
   "source": [
    "SVM_Accuracy_Score = metrics.accuracy_score(Y_test, predictions_SVM)\n",
    "SVM_JaccardIndex = metrics.jaccard_score(Y_test, predictions_SVM)\n",
    "SVM_F1_Score = metrics.f1_score(Y_test, predictions_SVM)\n",
    "print('The testing set accuracy score is:', SVM_Accuracy_Score, '\\nThe Jaccard similarity coefficient score. is:', SVM_JaccardIndex, '\\nThe F1 score is:',SVM_F1_Score)"
   ]
  },
  {
   "cell_type": "markdown",
   "id": "ec0903e1",
   "metadata": {},
   "source": [
    "## **Report**\n",
    "Show the Accuracy,Jaccard Index,F1-Score and LogLoss in a tabular format using data frame for all of the above models."
   ]
  },
  {
   "cell_type": "code",
   "execution_count": 97,
   "id": "a8f6ac50",
   "metadata": {},
   "outputs": [
    {
     "data": {
      "text/html": [
       "<div>\n",
       "<style scoped>\n",
       "    .dataframe tbody tr th:only-of-type {\n",
       "        vertical-align: middle;\n",
       "    }\n",
       "\n",
       "    .dataframe tbody tr th {\n",
       "        vertical-align: top;\n",
       "    }\n",
       "\n",
       "    .dataframe thead th {\n",
       "        text-align: right;\n",
       "    }\n",
       "</style>\n",
       "<table border=\"1\" class=\"dataframe\">\n",
       "  <thead>\n",
       "    <tr style=\"text-align: right;\">\n",
       "      <th></th>\n",
       "      <th>KNN</th>\n",
       "      <th>Decision Tree</th>\n",
       "      <th>Logistic Regression</th>\n",
       "      <th>SVM</th>\n",
       "    </tr>\n",
       "  </thead>\n",
       "  <tbody>\n",
       "    <tr>\n",
       "      <th>Accuracy</th>\n",
       "      <td>0.818321</td>\n",
       "      <td>0.755725</td>\n",
       "      <td>0.836641</td>\n",
       "      <td>0.719084</td>\n",
       "    </tr>\n",
       "    <tr>\n",
       "      <th>Jaccard Index</th>\n",
       "      <td>0.425121</td>\n",
       "      <td>0.402985</td>\n",
       "      <td>0.509174</td>\n",
       "      <td>0.0</td>\n",
       "    </tr>\n",
       "    <tr>\n",
       "      <th>F1-Score</th>\n",
       "      <td>0.59661</td>\n",
       "      <td>0.574468</td>\n",
       "      <td>0.674772</td>\n",
       "      <td>0.0</td>\n",
       "    </tr>\n",
       "    <tr>\n",
       "      <th>LogLoss</th>\n",
       "      <td>NA</td>\n",
       "      <td>NA</td>\n",
       "      <td>0.381064</td>\n",
       "      <td>NA</td>\n",
       "    </tr>\n",
       "  </tbody>\n",
       "</table>\n",
       "</div>"
      ],
      "text/plain": [
       "                    KNN Decision Tree  Logistic Regression       SVM\n",
       "Accuracy       0.818321      0.755725             0.836641  0.719084\n",
       "Jaccard Index  0.425121      0.402985             0.509174       0.0\n",
       "F1-Score        0.59661      0.574468             0.674772       0.0\n",
       "LogLoss              NA            NA             0.381064        NA"
      ]
     },
     "execution_count": 97,
     "metadata": {},
     "output_type": "execute_result"
    }
   ],
   "source": [
    "Report1={'KNN':[KNN_Accuracy_Score,KNN_JaccardIndex, KNN_F1_Score, 'NA'], 'Decision Tree': [Tree_Accuracy_Score,Tree_JaccardIndex, Tree_F1_Score, 'NA'],'Logistic Regression': [LR_Accuracy_Score, LR_JaccardIndex, LR_F1_Score, LR_Log_Loss], 'SVM':[SVM_Accuracy_Score, SVM_JaccardIndex, SVM_F1_Score, 'NA']}\n",
    "\n",
    "Report1=pd.DataFrame(Report1)\n",
    "\n",
    "Report1.rename(index={0:'Accuracy', 1:'Jaccard Index', 2:'F1-Score', 3:'LogLoss'}, inplace=True)\n",
    "Report1"
   ]
  },
  {
   "cell_type": "markdown",
   "id": "c2995bfb",
   "metadata": {},
   "source": [
    "Resources\n",
    "https://www.freecodecamp.org/news/how-to-build-and-train-linear-and-logistic-regression-ml-models-in-python/\n",
    "\n",
    "https://lifewithdata.com/2023/06/05/how-to-calculate-r-squared-in-python/#:~:text=Calculating%20R-Squared%20using%20Scikit-Learn%20Once%20we%20have%20fitted,r_squared%20%3D%20lm.score%20%28X_test%2C%20y_test%29%20print%20%28f%27R-squared%3A%20%7Br_squared%7D%27%29\n",
    "\n",
    "https://www.geeksforgeeks.org/how-to-print-dataframe-in-python-without-index/\n",
    "\n",
    "https://scikit-learn.org/stable/modules/generated/sklearn.metrics.jaccard_score.html\n",
    "\n",
    "https://scikit-learn.org/stable/modules/generated/sklearn.metrics.f1_score.html\n",
    "\n",
    "https://www.datacamp.com/tutorial/k-nearest-neighbor-classification-scikit-learn\n",
    "\n",
    "https://scikit-learn.org/stable/modules/generated/sklearn.metrics.log_loss.html\n",
    "\n",
    "https://scikit-learn.org/stable/modules/svm.html\n",
    "\n",
    "*This project assignment was created by IBM for the completion of the Honors Project "
   ]
  }
 ],
 "metadata": {
  "kernelspec": {
   "display_name": "Python 3 (ipykernel)",
   "language": "python",
   "name": "python3"
  },
  "language_info": {
   "codemirror_mode": {
    "name": "ipython",
    "version": 3
   },
   "file_extension": ".py",
   "mimetype": "text/x-python",
   "name": "python",
   "nbconvert_exporter": "python",
   "pygments_lexer": "ipython3",
   "version": "3.9.13"
  }
 },
 "nbformat": 4,
 "nbformat_minor": 5
}
